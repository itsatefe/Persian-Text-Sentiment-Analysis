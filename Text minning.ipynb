{
 "cells": [
  {
   "cell_type": "code",
   "execution_count": null,
   "id": "a0e7ab15",
   "metadata": {},
   "outputs": [],
   "source": [
    "import numpy as np\n",
    "import pandas as pd"
   ]
  },
  {
   "cell_type": "code",
   "execution_count": null,
   "id": "89fc0499",
   "metadata": {},
   "outputs": [],
   "source": [
    "import tensorflow as tf\n",
    "from nltk.tokenize import word_tokenize\n",
    "from tensorflow.keras.preprocessing import sequence"
   ]
  },
  {
   "cell_type": "markdown",
   "id": "c1604440",
   "metadata": {},
   "source": [
    "# Reading from file"
   ]
  },
  {
   "cell_type": "code",
   "execution_count": null,
   "id": "2c2e1d64",
   "metadata": {},
   "outputs": [],
   "source": [
    "dataset = pd.DataFrame()\n",
    "i = 0\n",
    "for i in range(2,66):\n",
    "    if i != 3:\n",
    "        data = pd.read_excel('myExcel\\\\split_'+str(i)+'.xlsx')\n",
    "        data = data[['product_id','user_id','comment','label','file']]\n",
    "        dataset = pd.concat([dataset,data])\n",
    "    i += 1"
   ]
  },
  {
   "cell_type": "markdown",
   "id": "aa0b4cea",
   "metadata": {},
   "source": [
    "# Data set of each excel file"
   ]
  },
  {
   "cell_type": "code",
   "execution_count": null,
   "id": "db30b1a1",
   "metadata": {},
   "outputs": [],
   "source": [
    "def excel_dataframe(identifier):\n",
    "    excel_list = []\n",
    "    i = 0 \n",
    "    for item in dataset.values:\n",
    "        \n",
    "        if item[4] == identifier:\n",
    "            excel_list.append(item) \n",
    "        \n",
    "        i += 1\n",
    "    excel_df =  pd.DataFrame(excel_list, columns=['product_id','user_id','comment','label','file'])\n",
    "    return excel_df"
   ]
  },
  {
   "cell_type": "code",
   "execution_count": null,
   "id": "fd90e042",
   "metadata": {},
   "outputs": [],
   "source": [
    "#excel_df = excel_dataframe(55)"
   ]
  },
  {
   "cell_type": "markdown",
   "id": "1575d582",
   "metadata": {},
   "source": [
    "# SEARCHING IN COLUMN FOR PRODUCT ID"
   ]
  },
  {
   "cell_type": "code",
   "execution_count": null,
   "id": "43b4def6",
   "metadata": {},
   "outputs": [],
   "source": [
    "def get_prod_label(dataset,identifier):\n",
    "    product_list = []\n",
    "    #print(\"_____PRODUCT______\")\n",
    "    for item in dataset.values:\n",
    "        if  identifier == item[0] :\n",
    "            product_list.append(('p',int(item[3]),int(item[1])))\n",
    "    return product_list"
   ]
  },
  {
   "cell_type": "code",
   "execution_count": null,
   "id": "45d91874",
   "metadata": {},
   "outputs": [],
   "source": [
    "#get_prod_label(dataset,56900)"
   ]
  },
  {
   "cell_type": "markdown",
   "id": "f36663d0",
   "metadata": {},
   "source": [
    "# SEARCHING IN COLUMN FOR USER ID"
   ]
  },
  {
   "cell_type": "code",
   "execution_count": null,
   "id": "e69a7101",
   "metadata": {},
   "outputs": [],
   "source": [
    "def get_user_label(dataset,identifier):\n",
    "    user_list = []\n",
    "    #print(\"_____USER______\")\n",
    "    for item in dataset.values:\n",
    "        if  identifier == item[1] :\n",
    "            user_list.append(('u',int(item[3]),int(item[0])))\n",
    "    return user_list"
   ]
  },
  {
   "cell_type": "code",
   "execution_count": null,
   "id": "732ba992",
   "metadata": {},
   "outputs": [],
   "source": [
    "#get_user_label(dataset,1423896)"
   ]
  },
  {
   "cell_type": "markdown",
   "id": "d822d1b9",
   "metadata": {},
   "source": [
    "# user and prod status"
   ]
  },
  {
   "cell_type": "code",
   "execution_count": null,
   "id": "908f6a8a",
   "metadata": {},
   "outputs": [],
   "source": [
    "def status(which,dataset,identifier):\n",
    "    \n",
    "    result = []\n",
    "    temp_list = []\n",
    "    mid = 0\n",
    "    \n",
    "    which.lower()\n",
    "    if which == 'user':\n",
    "        my_list = get_user_label(dataset,identifier)\n",
    "        i = 0\n",
    "        for n in my_list:\n",
    "\n",
    "\n",
    "            for item in get_prod_label(dataset,my_list[i][2]):\n",
    "                mid += item[1]\n",
    "            result.append(mid / len(get_prod_label(dataset,my_list[i][2])) * 100)\n",
    "            mid = 0\n",
    "            i += 1\n",
    "\n",
    "        j=0\n",
    "        for n  in my_list:\n",
    "            if result[j] < -50:\n",
    "                if my_list[j][1] == -1:\n",
    "                    temp_list.append(0)\n",
    "                elif my_list[j][1] == 0:\n",
    "                    temp_list.append(1)\n",
    "                else:\n",
    "                    temp_list.append(2)\n",
    "\n",
    "            if  result[j] > -50 and result[j] < 50:\n",
    "                if my_list[j][1] == -1:\n",
    "                    temp_list.append(-1)\n",
    "                elif my_list[j][1] == 0:\n",
    "                    temp_list.append(0)\n",
    "                else:\n",
    "                    temp_list.append(1)\n",
    "            if result[j] > 50:\n",
    "                if my_list[j][1] == -1:\n",
    "                    temp_list.append(-2)\n",
    "                elif my_list[j][1] == 0:\n",
    "                    temp_list.append(-1)\n",
    "                else:\n",
    "                    temp_list.append(0)\n",
    "                    \n",
    "            j+=1\n",
    "            \n",
    "    elif which == 'product':\n",
    "        my_list = get_prod_label(dataset,identifier)\n",
    "        mid = 0\n",
    "        i = 0\n",
    "        for n in my_list:\n",
    "            for item in get_user_label(dataset,my_list[i][2]):\n",
    "                mid += item[1]\n",
    "\n",
    "            result.append(mid / len(get_user_label(dataset,my_list[i][2])) * 100)\n",
    "            mid = 0\n",
    "            i += 1\n",
    "            \n",
    "        j=0\n",
    "        for n  in my_list:\n",
    "            if result[j] <= -50:\n",
    "                if my_list[j][1] == -1:\n",
    "                    temp_list.append(0)\n",
    "                elif my_list[j][1] == 0:\n",
    "                    temp_list.append(1)\n",
    "                else:\n",
    "                    temp_list.append(2)\n",
    "\n",
    "            if result[j] > -50 and result[j] < 50:\n",
    "                if my_list[j][1] == -1:\n",
    "                    temp_list.append(-1)\n",
    "                elif my_list[j][1] == 0:\n",
    "                    temp_list.append(0)\n",
    "                else:\n",
    "                    temp_list.append(1)\n",
    "            if result[j] > 50:\n",
    "                if my_list[j][1] == -1:\n",
    "                    temp_list.append(-2)\n",
    "                elif my_list[j][1] == 0:\n",
    "                    temp_list.append(-1)\n",
    "                else:\n",
    "                    temp_list.append(0)\n",
    "                    \n",
    "            j+=1\n",
    "            \n",
    "    else:\n",
    "        sys.exit(\"just Enter 'user' or 'product'\")\n",
    "        \n",
    "    if len(my_list) == 0:\n",
    "        sys.exit(\"no comment for this product or user\")\n",
    "        \n",
    "\n",
    "    #Final result\n",
    "    res = sum(temp_list)  / len(temp_list)\n",
    "    if res <= -0.5:\n",
    "        if 'u' in my_list[0]:\n",
    "            print('Pessimistic person')\n",
    "        else:\n",
    "            print('Bad product')\n",
    "    elif res > -0.5 and res < 0.5:\n",
    "        if 'u' in my_list[0]:\n",
    "            print('Realistic person')\n",
    "        else:\n",
    "            print('Average product')\n",
    "    else:\n",
    "        if 'u' in my_list[0]:\n",
    "            print('Optimistic person')\n",
    "        else:\n",
    "            print('Good product')\n"
   ]
  },
  {
   "cell_type": "code",
   "execution_count": null,
   "id": "5a86fcb1",
   "metadata": {},
   "outputs": [],
   "source": [
    "status('user',dataset,1423896)"
   ]
  },
  {
   "cell_type": "code",
   "execution_count": null,
   "id": "5e2d90c6",
   "metadata": {},
   "outputs": [],
   "source": [
    "from keras.models import Sequential , load_model\n",
    "from __future__ import unicode_literals\n",
    "from hazm import *\n",
    "from keras.preprocessing import sequence\n",
    "from keras.preprocessing.text import Tokenizer\n",
    "from keras import utils\n",
    "from sklearn.model_selection import train_test_split\n",
    "from keras.utils import to_categorical\n",
    "from pickle import dump,load\n",
    "from sklearn.metrics import confusion_matrix,classification_report,accuracy_score\n",
    "from keras.layers import Dense , Embedding\n",
    "from keras.layers import LSTM\n",
    "from tensorflow.keras.layers import Bidirectional"
   ]
  },
  {
   "cell_type": "code",
   "execution_count": null,
   "id": "9df1659d",
   "metadata": {},
   "outputs": [],
   "source": [
    "tokenizer = Tokenizer(num_words=1000,split=\"\")"
   ]
  },
  {
   "cell_type": "code",
   "execution_count": null,
   "id": "4070e3f3",
   "metadata": {},
   "outputs": [],
   "source": [
    "def comment_tokenizer(dataset):\n",
    "    import pandas as pd\n",
    "\n",
    "    \n",
    "    #dataset.drop_duplicates(['comment'])\n",
    "    \n",
    "    stopword=stopwords_list()\n",
    "    index=[]\n",
    "    a=['1','2','3','4','5','6','7','8','9','Q','W','E','R','T','Y','U','I','O','P','A','S','D','F','N','G','H','J','K','L','Z','X','C','V','B','N','M','.',':','?','!','(',')',',',']','.',';','*','q','w','e','r','t','y','u','i','o','p','a','s','d','f','g','h','j','k','l','z','x','c','v','b','n','m','؟']\n",
    "    h=len(a)\n",
    "    normalizer = Normalizer()\n",
    "    \n",
    "    i=0\n",
    "    X = []\n",
    "    for item in dataset['comment']:\n",
    "        if not isinstance(item, int) and not isinstance(item, float):\n",
    "            for it in range(0,h) :\n",
    "                 item=item.replace(a[it], \"\")\n",
    "            text = item.replace('\\u200c', ' ').replace('\\n', '').replace('\\r', '').replace('ي', 'ی').replace('ك', 'ک')        \n",
    "            e = normalizer.normalize(text)\n",
    "            tokens = word_tokenize(e)\n",
    "            l3 = [x for x in tokens if x not in stopword]\n",
    "            X.append(l3)\n",
    "        else:\n",
    "            index.append(i)\n",
    "        i += 1\n",
    "            \n",
    "    tokenizer.fit_on_texts(X)\n",
    "    X = tokenizer.texts_to_sequences(X)\n",
    "    return X ,index\n"
   ]
  },
  {
   "cell_type": "markdown",
   "id": "3a55f5d8",
   "metadata": {},
   "source": [
    "# label reader"
   ]
  },
  {
   "cell_type": "code",
   "execution_count": null,
   "id": "344596a5",
   "metadata": {},
   "outputs": [],
   "source": [
    "def label_reader(dataset,index):\n",
    "    y = []\n",
    "    j=0\n",
    "    for item in dataset['label']:\n",
    "        if j not in index:\n",
    "            y.append(item)\n",
    "        j += 1\n",
    "        \n",
    "    import math\n",
    "    for n , label in enumerate(y):\n",
    "        if math.isnan(label):\n",
    "            y[n] = 0\n",
    "    return y"
   ]
  },
  {
   "cell_type": "code",
   "execution_count": null,
   "id": "27f4fbf3",
   "metadata": {},
   "outputs": [],
   "source": [
    "X,index = comment_tokenizer(dataset)"
   ]
  },
  {
   "cell_type": "code",
   "execution_count": null,
   "id": "460c3729",
   "metadata": {},
   "outputs": [],
   "source": [
    "y = label_reader(dataset,index)"
   ]
  },
  {
   "cell_type": "markdown",
   "id": "175a6f54",
   "metadata": {},
   "source": [
    "# CREATING MODEL"
   ]
  },
  {
   "cell_type": "code",
   "execution_count": null,
   "id": "2ec188f9",
   "metadata": {},
   "outputs": [],
   "source": [
    "from tensorflow.keras.preprocessing.sequence import pad_sequences\n",
    "from sklearn.model_selection import train_test_split\n",
    "from tensorflow.keras.preprocessing.sequence import pad_sequences\n",
    "from tensorflow.keras.utils import to_categorical"
   ]
  },
  {
   "cell_type": "code",
   "execution_count": null,
   "id": "a4707193",
   "metadata": {},
   "outputs": [],
   "source": [
    "def get_ready_train(X, y):\n",
    "    x_train, x_test, y_train, y_test = train_test_split(X, y, test_size=0.20, random_state=42)\n",
    "    \n",
    "    x_train = pad_sequences(x_train, maxlen=100)\n",
    "    x_test = pad_sequences(x_test, maxlen=100)\n",
    "  \n",
    "    x_test = np.array(x_test)\n",
    "    x_train = np.array(x_train)\n",
    "\n",
    "    y_train = to_categorical(y_train, 3) \n",
    "    y_test = to_categorical(y_test, 3)\n",
    "    \n",
    "    return x_train, x_test, y_train, y_test"
   ]
  },
  {
   "cell_type": "code",
   "execution_count": null,
   "id": "e4f2f1bb",
   "metadata": {},
   "outputs": [],
   "source": [
    "x_train, x_test , y_train, y_test = get_ready_train(X,y)"
   ]
  },
  {
   "cell_type": "code",
   "execution_count": null,
   "id": "26039fb0",
   "metadata": {},
   "outputs": [],
   "source": [
    "def create_model(): \n",
    "    model = Sequential()\n",
    "    model.add(Embedding(10000,64))\n",
    "    model.add(Bidirectional(LSTM(64, return_sequences=True, dropout=0.2)))\n",
    "    model.add(Bidirectional(LSTM(25, dropout=0.2)))\n",
    "    model.add(Dense(3,activation='softmax'))\n",
    "    model.compile(loss='categorical_crossentropy',optimizer='adam',metrics=['accuracy'])\n",
    "    print(model.summary())\n",
    "    return model"
   ]
  },
  {
   "cell_type": "code",
   "execution_count": null,
   "id": "0c889daa",
   "metadata": {},
   "outputs": [],
   "source": [
    "model = create_model()"
   ]
  },
  {
   "cell_type": "markdown",
   "id": "9e700088",
   "metadata": {},
   "source": [
    "# training model"
   ]
  },
  {
   "cell_type": "code",
   "execution_count": null,
   "id": "f793116f",
   "metadata": {},
   "outputs": [],
   "source": [
    "training = model.fit(x_train,y_train,epochs=3,batch_size=50, validation_split=0.2 )"
   ]
  },
  {
   "cell_type": "markdown",
   "id": "ef310f2b",
   "metadata": {},
   "source": [
    "# finalize model"
   ]
  },
  {
   "cell_type": "code",
   "execution_count": null,
   "id": "c14feb9a",
   "metadata": {},
   "outputs": [],
   "source": [
    "final = model.fit(x_train,y_train,epochs=3,batch_size=20)"
   ]
  },
  {
   "cell_type": "code",
   "execution_count": null,
   "id": "2b716602",
   "metadata": {},
   "outputs": [],
   "source": [
    "y_pred = model.predict(x_test)\n",
    "predictions = np.argmax(y_pred, axis=1)"
   ]
  },
  {
   "cell_type": "code",
   "execution_count": null,
   "id": "4d01f3d0",
   "metadata": {},
   "outputs": [],
   "source": [
    "confusion_matrix(y_test.argmax(axis=1),predictions)"
   ]
  },
  {
   "cell_type": "code",
   "execution_count": null,
   "id": "7b3c6935",
   "metadata": {},
   "outputs": [],
   "source": [
    "test_score , test_acc = model.evaluate(x_test, y_test, batch_size=64)"
   ]
  },
  {
   "cell_type": "markdown",
   "id": "6dee2a13",
   "metadata": {},
   "source": [
    "# save model"
   ]
  },
  {
   "cell_type": "code",
   "execution_count": null,
   "id": "81096701",
   "metadata": {},
   "outputs": [],
   "source": [
    "model.save('sentimentAnalysis.h5')"
   ]
  },
  {
   "cell_type": "code",
   "execution_count": null,
   "id": "2fc55665",
   "metadata": {},
   "outputs": [],
   "source": [
    "dump(tokenizer,open('my_simpletokenizer','wb'))"
   ]
  },
  {
   "cell_type": "markdown",
   "id": "3d95d3fd",
   "metadata": {},
   "source": [
    "# loading model"
   ]
  },
  {
   "cell_type": "code",
   "execution_count": null,
   "id": "d3f1f373",
   "metadata": {},
   "outputs": [],
   "source": [
    "sent_model = load_model('sentimentAnalysis.h5')"
   ]
  },
  {
   "cell_type": "code",
   "execution_count": null,
   "id": "86477f99",
   "metadata": {},
   "outputs": [],
   "source": [
    "tokenizer = load(open('my_simpletokenizer','rb'))"
   ]
  },
  {
   "cell_type": "markdown",
   "id": "d8824796",
   "metadata": {},
   "source": [
    "# test dataset (UNSEEN)"
   ]
  },
  {
   "cell_type": "code",
   "execution_count": null,
   "id": "79944180",
   "metadata": {},
   "outputs": [],
   "source": [
    "def making_standard(dataset):\n",
    "    x_test,index = comment_tokenizer(dataset)\n",
    "    y_test = label_reader(dataset,index)\n",
    "    x_test = sequence.pad_sequences(x_test,maxlen=50)\n",
    "    x_test = np.array(x_test)\n",
    "    y_test = utils.to_categorical(y_test,3)\n",
    "    return x_test,y_test"
   ]
  },
  {
   "cell_type": "code",
   "execution_count": null,
   "id": "17bf4d96",
   "metadata": {},
   "outputs": [],
   "source": [
    "def test_dataset(path):\n",
    "    data = pd.read_excel(path)\n",
    "    data = data[['comment','label']]\n",
    "    xt = []\n",
    "    yt = []\n",
    "    xt , yt = making_standard(data)\n",
    "    answer=sent_model.predict_classes(xt)\n",
    "    return confusion_matrix(yt.argmax(axis=1),answer) , xt , yt"
   ]
  },
  {
   "cell_type": "markdown",
   "id": "d87c4a1a",
   "metadata": {},
   "source": [
    "# test single comment"
   ]
  },
  {
   "cell_type": "code",
   "execution_count": null,
   "id": "cacc3aee",
   "metadata": {},
   "outputs": [],
   "source": [
    "def test_single():\n",
    "    X = []\n",
    "    text = input('comment: ')\n",
    "    tokens = word_tokenize(text)\n",
    "    X.append(tokens)\n",
    "    tokenizer.fit_on_texts(X)\n",
    "    X = tokenizer.texts_to_sequences(X)\n",
    "    X = pad_sequences(X, maxlen=150)\n",
    "    result = sent_model.predict(X)\n",
    "    print(\"neutral  positive   negative\")\n",
    "    print(result)"
   ]
  },
  {
   "cell_type": "code",
   "execution_count": null,
   "id": "e503bd48",
   "metadata": {},
   "outputs": [],
   "source": [
    "while True:\n",
    "    test_single()"
   ]
  }
 ],
 "metadata": {
  "kernelspec": {
   "display_name": "Python 3 (ipykernel)",
   "language": "python",
   "name": "python3"
  },
  "language_info": {
   "codemirror_mode": {
    "name": "ipython",
    "version": 3
   },
   "file_extension": ".py",
   "mimetype": "text/x-python",
   "name": "python",
   "nbconvert_exporter": "python",
   "pygments_lexer": "ipython3",
   "version": "3.11.5"
  }
 },
 "nbformat": 4,
 "nbformat_minor": 5
}
